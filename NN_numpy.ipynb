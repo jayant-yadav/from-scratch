{
 "cells": [
  {
   "cell_type": "code",
   "execution_count": 28,
   "metadata": {},
   "outputs": [],
   "source": [
    "import numpy as np\n",
    "# import tensorflow\n",
    "from keras.datasets.mnist import load_data\n",
    "import typing "
   ]
  },
  {
   "cell_type": "code",
   "execution_count": 142,
   "metadata": {},
   "outputs": [],
   "source": [
    "def load_mnist() -> tuple[tuple,tuple,tuple]:\n",
    "    '''\n",
    "    Args: None\n",
    "    Return: tuple(train_x,train_y), tuple(val_x,val_y), tuple(test_x,test_y) \n",
    "\n",
    "    train data -> 60k\n",
    "    test data -> 10k\n",
    "    image -> 28x28 = 728\n",
    "    train_x -> (50k,728) , train_y -> (50k,10)\n",
    "    val_x -> (10k,728), val_y -> (10k,10)\n",
    "    test_x -> (10k,728), test_y -> (10k,10)\n",
    "\n",
    "    '''\n",
    "    (trainX, trainy), (testX, testy) = load_data() #TODO: shuffle trainX\n",
    "\n",
    "    # train_data = [np.reshape(img,(784,1)) for img in trainX]  # 60k x (784,1), if imaginging NN arch horizontal\n",
    "    # print((train_data[0]))\n",
    "    trainX = np.reshape(trainX,(-1,784)) # 60k x (1,784) = 60k x 784, if imagining NN arch vertical\n",
    "    testX = np.reshape(testX,(-1,784)) # 10k x (1,784) = 10k x 784\n",
    "\n",
    "    train_data, train_label = trainX[:50000], trainy[:50000]\n",
    "    val_data, val_label = trainX[50000:], trainy[50000:]\n",
    "\n",
    "    train_label = np.array([vectorize_digit(label) for label in train_label])\n",
    "    val_label = np.array([vectorize_digit(label) for label in val_label])\n",
    "    \n",
    "    print(train_data.shape,train_label.shape)\n",
    "    print(val_data.shape,val_label.shape)\n",
    "    print(testX.shape,testy.shape)\n",
    "\n",
    "    return ((train_data,train_label),(val_data, val_label), (testX,testy) )\n",
    "\n",
    "\n",
    "def vectorize_digit(digit: np.uint) -> np.ndarray:\n",
    "    \n",
    "    d = np.zeros(10)\n",
    "    d[digit] = 1.0\n",
    "\n",
    "    return d"
   ]
  },
  {
   "cell_type": "code",
   "execution_count": 143,
   "metadata": {},
   "outputs": [
    {
     "name": "stdout",
     "output_type": "stream",
     "text": [
      "(50000, 784) (50000, 10)\n",
      "(10000, 784) (10000, 10)\n",
      "(10000, 784) (10000,)\n"
     ]
    }
   ],
   "source": [
    "if __name__ == '__main__':\n",
    "\n",
    "    load_mnist()\n",
    "    "
   ]
  }
 ],
 "metadata": {
  "kernelspec": {
   "display_name": "from_scratch_env",
   "language": "python",
   "name": "python3"
  },
  "language_info": {
   "codemirror_mode": {
    "name": "ipython",
    "version": 3
   },
   "file_extension": ".py",
   "mimetype": "text/x-python",
   "name": "python",
   "nbconvert_exporter": "python",
   "pygments_lexer": "ipython3",
   "version": "3.10.13"
  }
 },
 "nbformat": 4,
 "nbformat_minor": 2
}
